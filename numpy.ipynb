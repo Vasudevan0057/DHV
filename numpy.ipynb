{
  "nbformat": 4,
  "nbformat_minor": 0,
  "metadata": {
    "colab": {
      "provenance": [],
      "authorship_tag": "ABX9TyPseFqysGB1CsvQwtMI3rW1",
      "include_colab_link": true
    },
    "kernelspec": {
      "name": "python3",
      "display_name": "Python 3"
    },
    "language_info": {
      "name": "python"
    }
  },
  "cells": [
    {
      "cell_type": "markdown",
      "metadata": {
        "id": "view-in-github",
        "colab_type": "text"
      },
      "source": [
        "<a href=\"https://colab.research.google.com/github/Vasudevan0057/DHV/blob/main/numpy.ipynb\" target=\"_parent\"><img src=\"https://colab.research.google.com/assets/colab-badge.svg\" alt=\"Open In Colab\"/></a>"
      ]
    },
    {
      "cell_type": "code",
      "execution_count": 1,
      "metadata": {
        "colab": {
          "base_uri": "https://localhost:8080/"
        },
        "id": "2ua8ZGRG_Pn_",
        "outputId": "01da0ddc-6aea-41f0-be52-fc558b47df09"
      },
      "outputs": [
        {
          "output_type": "stream",
          "name": "stdout",
          "text": [
            "(5,)\n",
            "5\n",
            "1\n",
            "5\n",
            "(2, 3)\n",
            "6\n",
            "2\n",
            "2\n",
            "(2, 2, 3)\n",
            "12\n",
            "3\n",
            "2\n"
          ]
        }
      ],
      "source": [
        "import pandas as pd\n",
        "import numpy as np\n",
        "\n",
        "\n",
        "import numpy as np\n",
        "array_1d = np.array([1, 2, 3, 4, 5])\n",
        "print(array_1d.shape)\n",
        "print(array_1d.size)\n",
        "print(array_1d.ndim)\n",
        "print(len(array_1d))\n",
        "array_2d = np.array([[1, 2, 3],\n",
        "                     [4, 5, 6]])\n",
        "print(array_2d.shape)\n",
        "print(array_2d.size)\n",
        "print(array_2d.ndim)\n",
        "print(len(array_2d))\n",
        "array_3d = np.array([[[1, 2, 3],\n",
        "                      [4, 5, 6]],\n",
        "\n",
        "                     [[7, 8, 9],\n",
        "                      [10, 11, 12]]])\n",
        "print(array_3d.shape)\n",
        "print(array_3d.size)\n",
        "print(array_3d.ndim)\n",
        "print(len(array_3d))"
      ]
    },
    {
      "cell_type": "code",
      "source": [
        "a_example = np.arange(1, 10, 2)\n",
        "print(a_example)\n",
        "randint_example = np.random.randint(1, 100, size=(3, 3))\n",
        "print(randint_example)\n",
        "rand_example = np.random.rand(2, 3)\n",
        "print(rand_example)\n",
        "lspace_example = np.linspace(1, 10, num=5)\n",
        "print(lspace_example)\n",
        "ones_example = np.ones((2, 3))\n",
        "print(ones_example)\n",
        "zeros_example = np.zeros((3, 2))\n",
        "print(zeros_example)\n",
        "diag_example = np.diag([1, 2, 3])\n",
        "print(diag_example)\n",
        ""
      ],
      "metadata": {
        "colab": {
          "base_uri": "https://localhost:8080/"
        },
        "id": "nUK6gYsi_SQb",
        "outputId": "de85d022-a991-43c0-a45a-2cde0918b710"
      },
      "execution_count": 2,
      "outputs": [
        {
          "output_type": "stream",
          "name": "stdout",
          "text": [
            "[1 3 5 7 9]\n",
            "[[75 85 10]\n",
            " [14 48 17]\n",
            " [ 6  7 25]]\n",
            "[[0.40739579 0.15694331 0.49800529]\n",
            " [0.922887   0.93410586 0.96018792]]\n",
            "[ 1.    3.25  5.5   7.75 10.  ]\n",
            "[[1. 1. 1.]\n",
            " [1. 1. 1.]]\n",
            "[[0. 0.]\n",
            " [0. 0.]\n",
            " [0. 0.]]\n",
            "[[1 0 0]\n",
            " [0 2 0]\n",
            " [0 0 3]]\n"
          ]
        }
      ]
    },
    {
      "cell_type": "code",
      "source": [
        "marks= np.random.randint(0, 101, size=10)\n",
        "print(marks)\n",
        ""
      ],
      "metadata": {
        "colab": {
          "base_uri": "https://localhost:8080/"
        },
        "id": "L5hv9EvF_aJS",
        "outputId": "5c5d2851-ac38-483d-a5a4-82cb5399fbeb"
      },
      "execution_count": 3,
      "outputs": [
        {
          "output_type": "stream",
          "name": "stdout",
          "text": [
            "[61 34 22 37 83 10 28 67 54 97]\n"
          ]
        }
      ]
    },
    {
      "cell_type": "code",
      "source": [
        "f_marks= marks[marks < 30]\n",
        "print(f_marks)"
      ],
      "metadata": {
        "colab": {
          "base_uri": "https://localhost:8080/"
        },
        "id": "wVTJ9obe_evx",
        "outputId": "34ed11e4-c9ea-44c5-eae5-3c344b214ad1"
      },
      "execution_count": 4,
      "outputs": [
        {
          "output_type": "stream",
          "name": "stdout",
          "text": [
            "[22 10 28]\n"
          ]
        }
      ]
    },
    {
      "cell_type": "code",
      "source": [
        "print(f_marks)\n",
        "pmarks=marks[marks>=30]\n",
        "print(pmarks)\n",
        "rows = 3\n",
        "cols = 4\n",
        "random_2d_array = np.random.rand(rows, cols)\n",
        "print(random_2d_array)"
      ],
      "metadata": {
        "colab": {
          "base_uri": "https://localhost:8080/"
        },
        "id": "lz-_505y_hdB",
        "outputId": "94d07693-acfe-4b8a-b613-d8a01e7228c6"
      },
      "execution_count": 5,
      "outputs": [
        {
          "output_type": "stream",
          "name": "stdout",
          "text": [
            "[22 10 28]\n",
            "[61 34 37 83 67 54 97]\n",
            "[[0.29227471 0.05416431 0.62206235 0.13698369]\n",
            " [0.426141   0.75426902 0.86264226 0.87155649]\n",
            " [0.81977897 0.29258302 0.51024774 0.2535092 ]]\n"
          ]
        }
      ]
    },
    {
      "cell_type": "code",
      "source": [],
      "metadata": {
        "id": "fMoKylyX_nHJ"
      },
      "execution_count": null,
      "outputs": []
    }
  ]
}